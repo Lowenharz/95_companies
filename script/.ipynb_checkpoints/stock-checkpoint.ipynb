{
 "cells": [
  {
   "cell_type": "code",
   "execution_count": 1,
   "metadata": {},
   "outputs": [],
   "source": [
    "import pip"
   ]
  },
  {
   "cell_type": "code",
   "execution_count": 2,
   "metadata": {},
   "outputs": [],
   "source": [
    "def install_and_import(package):\n",
    "    import importlib\n",
    "    try:\n",
    "        importlib.import_module(package)\n",
    "    except ImportError:\n",
    "        import pip\n",
    "        pip.main(['install', package])\n",
    "    finally:\n",
    "        globals()[package] = importlib.import_module(package)"
   ]
  },
  {
   "cell_type": "code",
   "execution_count": 4,
   "metadata": {},
   "outputs": [
    {
     "name": "stderr",
     "output_type": "stream",
     "text": [
      "Matplotlib is building the font cache using fc-list. This may take a moment.\n"
     ]
    }
   ],
   "source": [
    "# install_and_import('alpha_vantage')\n",
    "# install_and_import('pandas')\n",
    "# install_and_import('matplotlib')"
   ]
  },
  {
   "cell_type": "code",
   "execution_count": 3,
   "metadata": {},
   "outputs": [],
   "source": [
    "from alpha_vantage.timeseries import TimeSeries\n",
    "import matplotlib.pyplot as plt\n",
    "from pprint import pprint\n",
    "import pandas as pd"
   ]
  },
  {
   "cell_type": "code",
   "execution_count": 5,
   "metadata": {},
   "outputs": [
    {
     "name": "stdout",
     "output_type": "stream",
     "text": [
      "              1. open    2. high     3. low   4. close     5. volume\n",
      "date                                                                \n",
      "2019-09-26  2909.0100  3021.9900  2891.8501  2977.6201  6.601356e+10\n",
      "2019-08-30  2980.3201  3013.5901  2822.1201  2926.4600  7.959944e+10\n"
     ]
    }
   ],
   "source": [
    "# ts = TimeSeries(key='GBGYE5KAQ6QKCCQG', output_format='pandas')\n",
    "# data, meta_data = ts.get_monthly(symbol='SPX')\n",
    "# pprint(data.head(2))"
   ]
  },
  {
   "cell_type": "code",
   "execution_count": 8,
   "metadata": {},
   "outputs": [
    {
     "data": {
      "image/png": "[encoded data removed]",
      "text/plain": [
       "<Figure size 432x288 with 1 Axes>"
      ]
     },
     "metadata": {},
     "output_type": "display_data"
    }
   ],
   "source": [
    "# ts = TimeSeries(key='YOUR_API_KEY', output_format='pandas')\n",
    "# data, meta_data = ts.get_monthly(symbol='AVGO')\n",
    "# data['4. close'].plot()\n",
    "# plt.title('Intraday Times Series for the AVGO stock (1 min)')\n",
    "# plt.show()"
   ]
  },
  {
   "cell_type": "code",
   "execution_count": 5,
   "metadata": {},
   "outputs": [
    {
     "name": "stdout",
     "output_type": "stream",
     "text": [
      "['MMM', 'ACN', 'AFL', 'ALL', 'APTV', 'AGR', 'AVT', 'BBY', 'BMO', 'AVGO', 'CAJ', 'CBRE', 'CL', 'CMI', 'DELL', 'EMN', 'ECL', 'EW', 'LLY', 'FITB', 'FLR', 'AJG', 'G', 'GVA', 'HAS', 'HCA', 'HSIC', 'HPE', 'HLT', 'INGR', 'INTC', 'IBM', 'IP', 'JLL', 'JCI', 'K', 'KMB', 'KSS', 'LDOS', 'LECO', 'LNKD', 'MAN', 'MA', 'MSFT', 'NEE', 'NOK', 'ONB', 'ON', 'OSK', 'OC', 'PAYX', 'PEP', 'PINC', 'PFG', 'PRU', 'RLGY', 'RSG', 'ROK', 'RCL', 'CRM', 'SCHN', 'SNE', 'TMUS', 'TEL', 'TDC', 'TXN', 'AES', 'HIG', 'TKR', 'USB', 'VFC', 'V', 'VOYA', 'WDC', 'WY', 'WIT', 'WH']\n"
     ]
    }
   ],
   "source": [
    "f = open('./stock_ticker.txt','r')\n",
    "file_list = f.readlines()\n",
    "NYSE_or_NASDAQ = ['SPX']\n",
    "for line in file_list: \n",
    "    splited_line =line.split(':') \n",
    "    if splited_line[0] in ['NYSE', 'NASDAQ']:\n",
    "        NYSE_or_NASDAQ.append(splited_line[1].strip())\n",
    "print(NYSE_or_NASDAQ)\n",
    "# len(NYSE_or_NASDAQ)"
   ]
  },
  {
   "cell_type": "code",
   "execution_count": 5,
   "metadata": {},
   "outputs": [
    {
     "name": "stdout",
     "output_type": "stream",
     "text": [
      "MMM\n",
      "ACN\n",
      "AFL\n",
      "ALL\n",
      "APTV\n",
      "AGR\n",
      "AVT\n",
      "BBY\n",
      "BMO\n",
      "AVGO\n",
      "CAJ\n",
      "CBRE\n",
      "CL\n",
      "CMI\n",
      "DELL\n",
      "EMN\n",
      "ECL\n",
      "EW\n",
      "LLY\n",
      "FITB\n",
      "FLR\n",
      "AJG\n",
      "G\n",
      "GVA\n",
      "HAS\n",
      "HCA\n",
      "HSIC\n",
      "HPE\n",
      "HLT\n",
      "INGR\n",
      "INTC\n",
      "IBM\n",
      "IP\n",
      "JLL\n",
      "JCI\n",
      "K\n",
      "KMB\n",
      "KSS\n",
      "LDOS\n",
      "LECO\n",
      "LNKD\n",
      "MAN\n",
      "MA\n",
      "MSFT\n",
      "NEE\n",
      "NOK\n",
      "ONB\n",
      "ON\n",
      "OSK\n",
      "OC\n",
      "PAYX\n",
      "PEP\n",
      "PINC\n",
      "PFG\n",
      "PRU\n",
      "RLGY\n",
      "RSG\n",
      "ROK\n",
      "RCL\n",
      "CRM\n",
      "SCHN\n",
      "SNE\n",
      "TMUS\n",
      "TEL\n",
      "TDC\n",
      "TXN\n",
      "AES\n",
      "HIG\n",
      "TKR\n",
      "USB\n",
      "VFC\n",
      "V\n",
      "VOYA\n",
      "WDC\n",
      "WY\n",
      "WIT\n",
      "WH\n",
      "            4. close  4. close  4. close  4. close  4. close  4. close  \\\n",
      "date                                                                     \n",
      "1999-10-29    95.063       NaN    51.125    29.000       NaN       NaN   \n",
      "1999-11-30    95.563       NaN    47.875    26.188       NaN       NaN   \n",
      "1999-12-31    97.875       NaN    47.188    24.063       NaN       NaN   \n",
      "2000-01-31    93.625       NaN    43.438    23.188       NaN       NaN   \n",
      "2000-02-29    88.188       NaN    36.563    19.688       NaN       NaN   \n",
      "...              ...       ...       ...       ...       ...       ...   \n",
      "2019-05-31   159.750    178.07    51.300    95.510     64.04     50.06   \n",
      "2019-06-28   173.340    184.77    54.810   101.690     80.83     50.50   \n",
      "2019-07-31   174.720    192.58    52.640   107.400     87.65     50.55   \n",
      "2019-08-30   161.720    198.17    50.180   102.390     83.17     50.54   \n",
      "2019-09-25   164.000    190.87    52.170   107.660     88.07     51.98   \n",
      "\n",
      "            4. close  4. close  4. close  4. close  ...  4. close  4. close  \\\n",
      "date                                                ...                       \n",
      "1999-10-29    54.563    55.750    38.063       NaN  ...    51.813    17.938   \n",
      "1999-11-30    54.938    62.500    36.000       NaN  ...    46.688    19.125   \n",
      "1999-12-31    60.500    50.250    34.125       NaN  ...    47.375    20.438   \n",
      "2000-01-31    53.688    47.750    33.250       NaN  ...    38.125    16.313   \n",
      "2000-02-29    66.875    54.625    30.438       NaN  ...    31.250    14.313   \n",
      "...              ...       ...       ...       ...  ...       ...       ...   \n",
      "2019-05-31    40.840    62.670    72.610    251.64  ...    52.660    44.010   \n",
      "2019-06-28    45.270    69.730    75.450    287.86  ...    55.720    51.340   \n",
      "2019-07-31    45.420    76.530    74.810    289.99  ...    57.630    45.710   \n",
      "2019-08-30    41.890    63.650    68.630    282.64  ...    58.280    40.180   \n",
      "2019-09-25    44.200    67.430    73.200    275.77  ...    60.350    43.800   \n",
      "\n",
      "            4. close  4. close  4. close  4. close  4. close  4. close  \\\n",
      "date                                                                     \n",
      "1999-10-29    29.375    30.063       NaN       NaN     3.250    59.688   \n",
      "1999-11-30    26.000    29.875       NaN       NaN     3.875    61.250   \n",
      "1999-12-31    21.125    30.000       NaN       NaN     4.188    71.813   \n",
      "2000-01-31    23.875    25.938       NaN       NaN     4.750    57.375   \n",
      "2000-02-29    17.813    24.688       NaN       NaN     4.500    51.313   \n",
      "...              ...       ...       ...       ...       ...       ...   \n",
      "2019-05-31    50.200    81.880    161.33     50.93    37.220    22.800   \n",
      "2019-06-28    52.400    87.350    173.55     55.30    47.550    26.340   \n",
      "2019-07-31    57.150    87.390    178.00     56.17    53.890    25.410   \n",
      "2019-08-30    52.690    81.950    180.82     49.32    57.270    26.310   \n",
      "2019-09-25    55.740    87.020    175.28     54.56    61.050    27.840   \n",
      "\n",
      "            4. close  4. close  \n",
      "date                            \n",
      "1999-10-29       NaN       NaN  \n",
      "1999-11-30       NaN       NaN  \n",
      "1999-12-31       NaN       NaN  \n",
      "2000-01-31       NaN       NaN  \n",
      "2000-02-29       NaN       NaN  \n",
      "...              ...       ...  \n",
      "2019-05-31      4.42     53.34  \n",
      "2019-06-28      4.33     55.74  \n",
      "2019-07-31      4.09     56.55  \n",
      "2019-08-30      3.82     51.38  \n",
      "2019-09-25      3.59     52.07  \n",
      "\n",
      "[241 rows x 76 columns]\n"
     ]
    }
   ],
   "source": [
    "# ticker  = NYSE_or_NASDAQ[0]\n",
    "# ts = TimeSeries(key='GBGYE5KAQ6QKCCQG', output_format='pandas')\n",
    "# data1, meta_data = ts.get_monthly(symbol=ticker)\n",
    "# pprint(data1.head(3))\n",
    "\n",
    "# ticker  = NYSE_or_NASDAQ[1]\n",
    "# ts = TimeSeries(key='GBGYE5KAQ6QKCCQG', output_format='pandas')\n",
    "# data2, meta_data = ts.get_monthly(symbol=ticker)\n",
    "# pprint(data2.head(3))\n",
    "\n",
    "# NYSE_or_NASDAQ_2 = NYSE_or_NASDAQ\n",
    "# result = pd.DataFrame()\n",
    "appended_data = []\n",
    "\n",
    "for ticker in NYSE_or_NASDAQ: \n",
    "    print(ticker)\n",
    "    if ticker == 'LNKD':\n",
    "        continue\n",
    "    ts = TimeSeries(key='BGXZPAKXTF6DXMSS', output_format='pandas')\n",
    "    data, meta_data = ts.get_monthly(symbol=ticker)\n",
    "    appended_data.append(data['4. close'])\n",
    "\n",
    "result = pd.concat(appended_data, axis=1)    \n",
    "\n",
    "pprint(result)\n",
    "\n",
    "\n",
    "# result = pd.concat([data1['4. close'], data2['4. close']], axis=1)\n",
    "\n",
    "# # df = pd.DataFrame(data, index=index, columns=columns)\n",
    "# # pprint(data['4. close'].head(2))\n"
   ]
  },
  {
   "cell_type": "code",
   "execution_count": 6,
   "metadata": {},
   "outputs": [
    {
     "name": "stdout",
     "output_type": "stream",
     "text": [
      "['MMM', 'ACN', 'AFL', 'ALL', 'APTV', 'AGR', 'AVT', 'BBY', 'BMO', 'AVGO', 'CAJ', 'CBRE', 'CL', 'CMI', 'DELL', 'EMN', 'ECL', 'EW', 'LLY', 'FITB', 'FLR', 'AJG', 'G', 'GVA', 'HAS', 'HCA', 'HSIC', 'HPE', 'HLT', 'INGR', 'INTC', 'IBM', 'IP', 'JLL', 'JCI', 'K', 'KMB', 'KSS', 'LDOS', 'LECO', 'MAN', 'MA', 'MSFT', 'NEE', 'NOK', 'ONB', 'ON', 'OSK', 'OC', 'PAYX', 'PEP', 'PINC', 'PFG', 'PRU', 'RLGY', 'RSG', 'ROK', 'RCL', 'CRM', 'SCHN', 'SNE', 'TMUS', 'TEL', 'TDC', 'TXN', 'AES', 'HIG', 'TKR', 'USB', 'VFC', 'V', 'VOYA', 'WDC', 'WY', 'WIT', 'WH']\n"
     ]
    }
   ],
   "source": [
    "# ts = TimeSeries(key='GBGYE5KAQ6QKCCQG', output_format='pandas')\n",
    "# data1, meta_data = ts.get_monthly(symbol='MAN')\n",
    "# pprint(data1.head(3))\n",
    "NYSE_or_NASDAQ.remove('LNKD')\n",
    "print(NYSE_or_NASDAQ)"
   ]
  },
  {
   "cell_type": "code",
   "execution_count": 9,
   "metadata": {},
   "outputs": [],
   "source": [
    "result.columns=NYSE_or_NASDAQ"
   ]
  },
  {
   "cell_type": "code",
   "execution_count": 10,
   "metadata": {},
   "outputs": [
    {
     "name": "stdout",
     "output_type": "stream",
     "text": [
      "                MMM     ACN     AFL      ALL   APTV    AGR     AVT     BBY  \\\n",
      "date                                                                         \n",
      "1999-10-29   95.063     NaN  51.125   29.000    NaN    NaN  54.563  55.750   \n",
      "1999-11-30   95.563     NaN  47.875   26.188    NaN    NaN  54.938  62.500   \n",
      "1999-12-31   97.875     NaN  47.188   24.063    NaN    NaN  60.500  50.250   \n",
      "2000-01-31   93.625     NaN  43.438   23.188    NaN    NaN  53.688  47.750   \n",
      "2000-02-29   88.188     NaN  36.563   19.688    NaN    NaN  66.875  54.625   \n",
      "...             ...     ...     ...      ...    ...    ...     ...     ...   \n",
      "2019-05-31  159.750  178.07  51.300   95.510  64.04  50.06  40.840  62.670   \n",
      "2019-06-28  173.340  184.77  54.810  101.690  80.83  50.50  45.270  69.730   \n",
      "2019-07-31  174.720  192.58  52.640  107.400  87.65  50.55  45.420  76.530   \n",
      "2019-08-30  161.720  198.17  50.180  102.390  83.17  50.54  41.890  63.650   \n",
      "2019-09-25  164.000  190.87  52.170  107.660  88.07  51.98  44.200  67.430   \n",
      "\n",
      "               BMO    AVGO  ...     HIG     TKR     USB     VFC       V  \\\n",
      "date                        ...                                           \n",
      "1999-10-29  38.063     NaN  ...  51.813  17.938  29.375  30.063     NaN   \n",
      "1999-11-30  36.000     NaN  ...  46.688  19.125  26.000  29.875     NaN   \n",
      "1999-12-31  34.125     NaN  ...  47.375  20.438  21.125  30.000     NaN   \n",
      "2000-01-31  33.250     NaN  ...  38.125  16.313  23.875  25.938     NaN   \n",
      "2000-02-29  30.438     NaN  ...  31.250  14.313  17.813  24.688     NaN   \n",
      "...            ...     ...  ...     ...     ...     ...     ...     ...   \n",
      "2019-05-31  72.610  251.64  ...  52.660  44.010  50.200  81.880  161.33   \n",
      "2019-06-28  75.450  287.86  ...  55.720  51.340  52.400  87.350  173.55   \n",
      "2019-07-31  74.810  289.99  ...  57.630  45.710  57.150  87.390  178.00   \n",
      "2019-08-30  68.630  282.64  ...  58.280  40.180  52.690  81.950  180.82   \n",
      "2019-09-25  73.200  275.77  ...  60.350  43.800  55.740  87.020  175.28   \n",
      "\n",
      "             VOYA     WDC      WY   WIT     WH  \n",
      "date                                            \n",
      "1999-10-29    NaN   3.250  59.688   NaN    NaN  \n",
      "1999-11-30    NaN   3.875  61.250   NaN    NaN  \n",
      "1999-12-31    NaN   4.188  71.813   NaN    NaN  \n",
      "2000-01-31    NaN   4.750  57.375   NaN    NaN  \n",
      "2000-02-29    NaN   4.500  51.313   NaN    NaN  \n",
      "...           ...     ...     ...   ...    ...  \n",
      "2019-05-31  50.93  37.220  22.800  4.42  53.34  \n",
      "2019-06-28  55.30  47.550  26.340  4.33  55.74  \n",
      "2019-07-31  56.17  53.890  25.410  4.09  56.55  \n",
      "2019-08-30  49.32  57.270  26.310  3.82  51.38  \n",
      "2019-09-25  54.56  61.050  27.840  3.59  52.07  \n",
      "\n",
      "[241 rows x 76 columns]\n"
     ]
    }
   ],
   "source": [
    "print(result)"
   ]
  },
  {
   "cell_type": "code",
   "execution_count": 11,
   "metadata": {},
   "outputs": [],
   "source": [
    "result.to_csv('./NASDQ_or_NYSE.csv')"
   ]
  },
  {
   "cell_type": "code",
   "execution_count": 13,
   "metadata": {},
   "outputs": [
    {
     "name": "stdout",
     "output_type": "stream",
     "text": [
      "LECO\n",
      "LNKD\n",
      "MAN\n",
      "            4. close  4. close\n",
      "date                          \n",
      "2019-09-25    86.640    84.570\n",
      "2019-08-30    82.560    81.740\n",
      "2019-07-31    84.520    91.350\n",
      "2019-06-28    82.320    96.600\n",
      "2019-05-31    75.940    85.520\n",
      "...              ...       ...\n",
      "2000-02-29    19.500    32.688\n",
      "2000-01-31    19.563    35.688\n",
      "1999-12-31    20.625    37.625\n",
      "1999-11-30    20.313    36.438\n",
      "1999-10-29    22.375    35.125\n",
      "\n",
      "[240 rows x 2 columns]\n"
     ]
    }
   ],
   "source": [
    "# pprint(NYSE_or_NASDAQ_2)\n",
    "# NYSE_or_NASDAQ_3 = NYSE_or_NASDAQ[39:42]\n",
    "# # result = pd.DataFrame()\n",
    "# appended_data = []\n",
    "\n",
    "# for ticker in NYSE_or_NASDAQ_3: \n",
    "#     print(ticker)\n",
    "#     if ticker == 'LNKD':\n",
    "#         continue\n",
    "#     ts = TimeSeries(key='BGXZPAKXTF6DXMSS', output_format='pandas')\n",
    "#     data, meta_data = ts.get_monthly(symbol=ticker)\n",
    "#     appended_data.append(data['4. close'])\n",
    "\n",
    "# result2 = pd.concat(appended_data, axis=1)    \n",
    "\n",
    "# pprint(result2)"
   ]
  },
  {
   "cell_type": "code",
   "execution_count": 15,
   "metadata": {},
   "outputs": [
    {
     "data": {
      "text/plain": [
       "<matplotlib.axes._subplots.AxesSubplot at 0x1232d8e10>"
      ]
     },
     "execution_count": 15,
     "metadata": {},
     "output_type": "execute_result"
    },
    {
     "data": {
      "image/png": "[encoded data removed]",
      "text/plain": [
       "<Figure size 1080x504 with 1 Axes>"
      ]
     },
     "metadata": {},
     "output_type": "display_data"
    }
   ],
   "source": [
    "fig, ax = plt.subplots(figsize=(15,7))\n",
    "result.groupby(['date']).count().unstack().plot(ax=ax)"
   ]
  }
 ],
 "metadata": {
  "kernelspec": {
   "display_name": "Python 3",
   "language": "python",
   "name": "python3"
  },
  "language_info": {
   "codemirror_mode": {
    "name": "ipython",
    "version": 3
   },
   "file_extension": ".py",
   "mimetype": "text/x-python",
   "name": "python",
   "nbconvert_exporter": "python",
   "pygments_lexer": "ipython3",
   "version": "3.6.4"
  }
 },
 "nbformat": 4,
 "nbformat_minor": 2
}
