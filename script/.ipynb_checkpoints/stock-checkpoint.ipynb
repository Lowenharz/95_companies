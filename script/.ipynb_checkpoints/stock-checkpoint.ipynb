{
 "cells": [
  {
   "cell_type": "code",
   "execution_count": 1,
   "metadata": {},
   "outputs": [],
   "source": [
    "import pip"
   ]
  },
  {
   "cell_type": "code",
   "execution_count": 2,
   "metadata": {},
   "outputs": [],
   "source": [
    "def install_and_import(package):\n",
    "    import importlib\n",
    "    try:\n",
    "        importlib.import_module(package)\n",
    "    except ImportError:\n",
    "        import pip\n",
    "        pip.main(['install', package])\n",
    "    finally:\n",
    "        globals()[package] = importlib.import_module(package)"
   ]
  },
  {
   "cell_type": "code",
   "execution_count": 4,
   "metadata": {},
   "outputs": [
    {
     "name": "stderr",
     "output_type": "stream",
     "text": [
      "Matplotlib is building the font cache using fc-list. This may take a moment.\n"
     ]
    }
   ],
   "source": [
    "# install_and_import('alpha_vantage')\n",
    "# install_and_import('pandas')\n",
    "# install_and_import('matplotlib')"
   ]
  },
  {
   "cell_type": "code",
   "execution_count": 3,
   "metadata": {},
   "outputs": [],
   "source": [
    "from alpha_vantage.timeseries import TimeSeries\n",
    "import matplotlib.pyplot as plt\n",
    "from pprint import pprint\n",
    "import pandas as pd"
   ]
  },
  {
   "cell_type": "code",
   "execution_count": 7,
   "metadata": {},
   "outputs": [
    {
     "name": "stdout",
     "output_type": "stream",
     "text": [
      "            1. open  2. high  3. low  4. close    5. volume\n",
      "date                                                       \n",
      "2019-09-25   136.61   142.37  134.51    139.36  414782663.0\n",
      "2019-08-30   137.00   140.94  130.78    137.86  584474300.0\n"
     ]
    }
   ],
   "source": [
    "# ts = TimeSeries(key='GBGYE5KAQ6QKCCQG', output_format='pandas')\n",
    "# data, meta_data = ts.get_monthly(symbol='MSFT')\n",
    "# pprint(data.head(2))"
   ]
  },
  {
   "cell_type": "code",
   "execution_count": 8,
   "metadata": {},
   "outputs": [
    {
     "data": {
      "image/png": "[encoded data removed]",
      "text/plain": [
       "<Figure size 432x288 with 1 Axes>"
      ]
     },
     "metadata": {},
     "output_type": "display_data"
    }
   ],
   "source": [
    "# ts = TimeSeries(key='YOUR_API_KEY', output_format='pandas')\n",
    "# data, meta_data = ts.get_monthly(symbol='AVGO')\n",
    "# data['4. close'].plot()\n",
    "# plt.title('Intraday Times Series for the AVGO stock (1 min)')\n",
    "# plt.show()"
   ]
  },
  {
   "cell_type": "code",
   "execution_count": 4,
   "metadata": {},
   "outputs": [],
   "source": [
    "f = open('./stock_ticker.txt','r')\n",
    "file_list = f.readlines()\n",
    "NYSE_or_NASDAQ = []\n",
    "for line in file_list: \n",
    "    splited_line =line.split(':') \n",
    "    if splited_line[0] in ['NYSE', 'NASDAQ']:\n",
    "        NYSE_or_NASDAQ.append(splited_line[1].strip())\n",
    "# print(NYSE_or_NASDAQ)\n",
    "# len(NYSE_or_NASDAQ)"
   ]
  },
  {
   "cell_type": "code",
   "execution_count": 48,
   "metadata": {},
   "outputs": [
    {
     "name": "stdout",
     "output_type": "stream",
     "text": [
      "MMM\n",
      "ACN\n",
      "AFL\n",
      "ALL\n",
      "APTV\n",
      "AGR\n",
      "AVT\n",
      "BBY\n",
      "BMO\n",
      "AVGO\n",
      "CAJ\n",
      "CBRE\n",
      "CL\n",
      "CMI\n",
      "DELL\n",
      "EMN\n",
      "ECL\n",
      "EW\n",
      "LLY\n",
      "FITB\n",
      "FLR\n",
      "AJG\n",
      "G\n",
      "GVA\n",
      "HAS\n",
      "HCA\n",
      "HSIC\n",
      "HPE\n",
      "HLT\n",
      "INGR\n",
      "INTC\n",
      "IBM\n",
      "IP\n",
      "JLL\n",
      "JCI\n",
      "K\n",
      "KMB\n",
      "KSS\n",
      "LDOS\n",
      "LECO\n",
      "            4. close  4. close  4. close  4. close  4. close  4. close  \\\n",
      "date                                                                     \n",
      "1999-10-29    95.063       NaN    51.125    29.000       NaN       NaN   \n",
      "1999-11-30    95.563       NaN    47.875    26.188       NaN       NaN   \n",
      "1999-12-31    97.875       NaN    47.188    24.063       NaN       NaN   \n",
      "2000-01-31    93.625       NaN    43.438    23.188       NaN       NaN   \n",
      "2000-02-29    88.188       NaN    36.563    19.688       NaN       NaN   \n",
      "...              ...       ...       ...       ...       ...       ...   \n",
      "2019-05-31   159.750    178.07    51.300    95.510     64.04     50.06   \n",
      "2019-06-28   173.340    184.77    54.810   101.690     80.83     50.50   \n",
      "2019-07-31   174.720    192.58    52.640   107.400     87.65     50.55   \n",
      "2019-08-30   161.720    198.17    50.180   102.390     83.17     50.54   \n",
      "2019-09-25   164.000    190.87    52.170   107.660     88.07     51.98   \n",
      "\n",
      "            4. close  4. close  4. close  4. close  ...  4. close  4. close  \\\n",
      "date                                                ...                       \n",
      "1999-10-29    54.563    55.750    38.063       NaN  ...    38.719    98.250   \n",
      "1999-11-30    54.938    62.500    36.000       NaN  ...    38.344   103.063   \n",
      "1999-12-31    60.500    50.250    34.125       NaN  ...    41.156   107.875   \n",
      "2000-01-31    53.688    47.750    33.250       NaN  ...    49.469   112.250   \n",
      "2000-02-29    66.875    54.625    30.438       NaN  ...    56.500   102.750   \n",
      "...              ...       ...       ...       ...  ...       ...       ...   \n",
      "2019-05-31    40.840    62.670    72.610    251.64  ...    44.040   126.990   \n",
      "2019-06-28    45.270    69.730    75.450    287.86  ...    47.870   137.900   \n",
      "2019-07-31    45.420    76.530    74.810    289.99  ...    50.550   148.240   \n",
      "2019-08-30    41.890    63.650    68.630    282.64  ...    47.410   135.530   \n",
      "2019-09-25    44.200    67.430    73.200    275.77  ...    51.020   143.160   \n",
      "\n",
      "            4. close  4. close  4. close  4. close  4. close  4. close  \\\n",
      "date                                                                     \n",
      "1999-10-29    52.625    12.438    40.125    39.813    63.000    74.875   \n",
      "1999-11-30    52.297    12.125    40.063    33.875    63.938    72.188   \n",
      "1999-12-31    56.438    11.875    39.000    30.813    65.438    72.188   \n",
      "2000-01-31    47.625    13.563    43.063    24.250    62.125    70.125   \n",
      "2000-02-29    36.813    12.250    37.000    25.313    51.500    75.813   \n",
      "...              ...       ...       ...       ...       ...       ...   \n",
      "2019-05-31    41.470   124.450    38.520    52.560   127.890    49.320   \n",
      "2019-06-28    43.320   140.690    41.310    53.570   133.280    47.550   \n",
      "2019-07-31    43.910   145.690    42.440    58.220   135.650    53.860   \n",
      "2019-08-30    39.100   134.050    42.690    62.800   141.110    47.260   \n",
      "2019-09-25    41.360   139.900    43.700    64.060   137.580    49.780   \n",
      "\n",
      "            4. close  4. close  \n",
      "date                            \n",
      "1999-10-29       NaN    22.375  \n",
      "1999-11-30       NaN    20.313  \n",
      "1999-12-31       NaN    20.625  \n",
      "2000-01-31       NaN    19.563  \n",
      "2000-02-29       NaN    19.500  \n",
      "...              ...       ...  \n",
      "2019-05-31     75.33    75.940  \n",
      "2019-06-28     79.85    82.320  \n",
      "2019-07-31     82.10    84.520  \n",
      "2019-08-30     87.36    82.560  \n",
      "2019-09-25     87.04    86.640  \n",
      "\n",
      "[240 rows x 40 columns]\n"
     ]
    }
   ],
   "source": [
    "# ticker  = NYSE_or_NASDAQ[0]\n",
    "# ts = TimeSeries(key='GBGYE5KAQ6QKCCQG', output_format='pandas')\n",
    "# data1, meta_data = ts.get_monthly(symbol=ticker)\n",
    "# pprint(data1.head(3))\n",
    "\n",
    "# ticker  = NYSE_or_NASDAQ[1]\n",
    "# ts = TimeSeries(key='GBGYE5KAQ6QKCCQG', output_format='pandas')\n",
    "# data2, meta_data = ts.get_monthly(symbol=ticker)\n",
    "# pprint(data2.head(3))\n",
    "\n",
    "# NYSE_or_NASDAQ_2 = NYSE_or_NASDAQ\n",
    "# result = pd.DataFrame()\n",
    "appended_data = []\n",
    "\n",
    "for ticker in NYSE_or_NASDAQ: \n",
    "    print(ticker)\n",
    "    if ticker == 'MAN':\n",
    "        continue\n",
    "    ts = TimeSeries(key='BGXZPAKXTF6DXMSS', output_format='pandas')\n",
    "    data, meta_data = ts.get_monthly(symbol=ticker)\n",
    "    appended_data.append(data['4. close'])\n",
    "\n",
    "result = pd.concat(appended_data, axis=1)    \n",
    "\n",
    "pprint(result)\n",
    "\n",
    "\n",
    "# result = pd.concat([data1['4. close'], data2['4. close']], axis=1)\n",
    "\n",
    "# # df = pd.DataFrame(data, index=index, columns=columns)\n",
    "# # pprint(data['4. close'].head(2))\n"
   ]
  },
  {
   "cell_type": "code",
   "execution_count": 47,
   "metadata": {},
   "outputs": [
    {
     "name": "stdout",
     "output_type": "stream",
     "text": [
      "            1. open  2. high  3. low  4. close   5. volume\n",
      "date                                                      \n",
      "2019-09-25    80.83    87.68   79.33     84.57   8498574.0\n",
      "2019-08-30    91.41    92.90   78.14     81.74   7796100.0\n",
      "2019-07-31    97.96    97.96   86.66     91.35  13594400.0\n"
     ]
    }
   ],
   "source": [
    "ts = TimeSeries(key='GBGYE5KAQ6QKCCQG', output_format='pandas')\n",
    "data1, meta_data = ts.get_monthly(symbol='MAN')\n",
    "pprint(data1.head(3))\n"
   ]
  },
  {
   "cell_type": "code",
   "execution_count": 58,
   "metadata": {},
   "outputs": [
    {
     "name": "stdout",
     "output_type": "stream",
     "text": [
      "LNKD\n"
     ]
    },
    {
     "ename": "ValueError",
     "evalue": "Invalid API call. Please retry or visit the documentation (https://www.alphavantage.co/documentation/) for TIME_SERIES_MONTHLY.",
     "output_type": "error",
     "traceback": [
      "\u001b[0;31m---------------------------------------------------------------------------\u001b[0m",
      "\u001b[0;31mValueError\u001b[0m                                Traceback (most recent call last)",
      "\u001b[0;32m<ipython-input-58-16b7b3fb9b59>\u001b[0m in \u001b[0;36m<module>\u001b[0;34m()\u001b[0m\n\u001b[1;32m      7\u001b[0m     \u001b[0mprint\u001b[0m\u001b[0;34m(\u001b[0m\u001b[0mticker\u001b[0m\u001b[0;34m)\u001b[0m\u001b[0;34m\u001b[0m\u001b[0m\n\u001b[1;32m      8\u001b[0m     \u001b[0mts\u001b[0m \u001b[0;34m=\u001b[0m \u001b[0mTimeSeries\u001b[0m\u001b[0;34m(\u001b[0m\u001b[0mkey\u001b[0m\u001b[0;34m=\u001b[0m\u001b[0;34m'BGXZPAKXTF6DXMSS'\u001b[0m\u001b[0;34m,\u001b[0m \u001b[0moutput_format\u001b[0m\u001b[0;34m=\u001b[0m\u001b[0;34m'pandas'\u001b[0m\u001b[0;34m)\u001b[0m\u001b[0;34m\u001b[0m\u001b[0m\n\u001b[0;32m----> 9\u001b[0;31m     \u001b[0mdata\u001b[0m\u001b[0;34m,\u001b[0m \u001b[0mmeta_data\u001b[0m \u001b[0;34m=\u001b[0m \u001b[0mts\u001b[0m\u001b[0;34m.\u001b[0m\u001b[0mget_monthly\u001b[0m\u001b[0;34m(\u001b[0m\u001b[0msymbol\u001b[0m\u001b[0;34m=\u001b[0m\u001b[0mticker\u001b[0m\u001b[0;34m)\u001b[0m\u001b[0;34m\u001b[0m\u001b[0m\n\u001b[0m\u001b[1;32m     10\u001b[0m     \u001b[0mappended_data\u001b[0m\u001b[0;34m.\u001b[0m\u001b[0mappend\u001b[0m\u001b[0;34m(\u001b[0m\u001b[0mdata\u001b[0m\u001b[0;34m[\u001b[0m\u001b[0;34m'4. close'\u001b[0m\u001b[0;34m]\u001b[0m\u001b[0;34m)\u001b[0m\u001b[0;34m\u001b[0m\u001b[0m\n\u001b[1;32m     11\u001b[0m \u001b[0;34m\u001b[0m\u001b[0m\n",
      "\u001b[0;32m/Library/Frameworks/Python.framework/Versions/3.6/lib/python3.6/site-packages/alpha_vantage/alphavantage.py\u001b[0m in \u001b[0;36m_format_wrapper\u001b[0;34m(self, *args, **kwargs)\u001b[0m\n\u001b[1;32m    159\u001b[0m         \u001b[0;32mdef\u001b[0m \u001b[0m_format_wrapper\u001b[0m\u001b[0;34m(\u001b[0m\u001b[0mself\u001b[0m\u001b[0;34m,\u001b[0m \u001b[0;34m*\u001b[0m\u001b[0margs\u001b[0m\u001b[0;34m,\u001b[0m \u001b[0;34m**\u001b[0m\u001b[0mkwargs\u001b[0m\u001b[0;34m)\u001b[0m\u001b[0;34m:\u001b[0m\u001b[0;34m\u001b[0m\u001b[0m\n\u001b[1;32m    160\u001b[0m             call_response, data_key, meta_data_key = func(\n\u001b[0;32m--> 161\u001b[0;31m                 self, *args, **kwargs)\n\u001b[0m\u001b[1;32m    162\u001b[0m             \u001b[0;32mif\u001b[0m \u001b[0;34m'json'\u001b[0m \u001b[0;32min\u001b[0m \u001b[0mself\u001b[0m\u001b[0;34m.\u001b[0m\u001b[0moutput_format\u001b[0m\u001b[0;34m.\u001b[0m\u001b[0mlower\u001b[0m\u001b[0;34m(\u001b[0m\u001b[0;34m)\u001b[0m \u001b[0;32mor\u001b[0m \u001b[0;34m'pandas'\u001b[0m\u001b[0;31m \u001b[0m\u001b[0;31m\\\u001b[0m\u001b[0;34m\u001b[0m\u001b[0m\n\u001b[1;32m    163\u001b[0m                     \u001b[0;32min\u001b[0m \u001b[0mself\u001b[0m\u001b[0;34m.\u001b[0m\u001b[0moutput_format\u001b[0m\u001b[0;34m.\u001b[0m\u001b[0mlower\u001b[0m\u001b[0;34m(\u001b[0m\u001b[0;34m)\u001b[0m\u001b[0;34m:\u001b[0m\u001b[0;34m\u001b[0m\u001b[0m\n",
      "\u001b[0;32m/Library/Frameworks/Python.framework/Versions/3.6/lib/python3.6/site-packages/alpha_vantage/alphavantage.py\u001b[0m in \u001b[0;36m_call_wrapper\u001b[0;34m(self, *args, **kwargs)\u001b[0m\n\u001b[1;32m    144\u001b[0m             \u001b[0;32melse\u001b[0m\u001b[0;34m:\u001b[0m\u001b[0;34m\u001b[0m\u001b[0m\n\u001b[1;32m    145\u001b[0m                 \u001b[0murl\u001b[0m \u001b[0;34m=\u001b[0m \u001b[0;34m'{}&apikey={}'\u001b[0m\u001b[0;34m.\u001b[0m\u001b[0mformat\u001b[0m\u001b[0;34m(\u001b[0m\u001b[0murl\u001b[0m\u001b[0;34m,\u001b[0m \u001b[0mself\u001b[0m\u001b[0;34m.\u001b[0m\u001b[0mkey\u001b[0m\u001b[0;34m)\u001b[0m\u001b[0;34m\u001b[0m\u001b[0m\n\u001b[0;32m--> 146\u001b[0;31m             \u001b[0;32mreturn\u001b[0m \u001b[0mself\u001b[0m\u001b[0;34m.\u001b[0m\u001b[0m_handle_api_call\u001b[0m\u001b[0;34m(\u001b[0m\u001b[0murl\u001b[0m\u001b[0;34m)\u001b[0m\u001b[0;34m,\u001b[0m \u001b[0mdata_key\u001b[0m\u001b[0;34m,\u001b[0m \u001b[0mmeta_data_key\u001b[0m\u001b[0;34m\u001b[0m\u001b[0m\n\u001b[0m\u001b[1;32m    147\u001b[0m         \u001b[0;32mreturn\u001b[0m \u001b[0m_call_wrapper\u001b[0m\u001b[0;34m\u001b[0m\u001b[0m\n\u001b[1;32m    148\u001b[0m \u001b[0;34m\u001b[0m\u001b[0m\n",
      "\u001b[0;32m/Library/Frameworks/Python.framework/Versions/3.6/lib/python3.6/site-packages/alpha_vantage/alphavantage.py\u001b[0m in \u001b[0;36m_handle_api_call\u001b[0;34m(self, url)\u001b[0m\n\u001b[1;32m    273\u001b[0m             \u001b[0mjson_response\u001b[0m \u001b[0;34m=\u001b[0m \u001b[0mresponse\u001b[0m\u001b[0;34m.\u001b[0m\u001b[0mjson\u001b[0m\u001b[0;34m(\u001b[0m\u001b[0;34m)\u001b[0m\u001b[0;34m\u001b[0m\u001b[0m\n\u001b[1;32m    274\u001b[0m             \u001b[0;32mif\u001b[0m \u001b[0;34m\"Error Message\"\u001b[0m \u001b[0;32min\u001b[0m \u001b[0mjson_response\u001b[0m\u001b[0;34m:\u001b[0m\u001b[0;34m\u001b[0m\u001b[0m\n\u001b[0;32m--> 275\u001b[0;31m                 \u001b[0;32mraise\u001b[0m \u001b[0mValueError\u001b[0m\u001b[0;34m(\u001b[0m\u001b[0mjson_response\u001b[0m\u001b[0;34m[\u001b[0m\u001b[0;34m\"Error Message\"\u001b[0m\u001b[0;34m]\u001b[0m\u001b[0;34m)\u001b[0m\u001b[0;34m\u001b[0m\u001b[0m\n\u001b[0m\u001b[1;32m    276\u001b[0m             \u001b[0;32melif\u001b[0m \u001b[0;34m\"Information\"\u001b[0m \u001b[0;32min\u001b[0m \u001b[0mjson_response\u001b[0m \u001b[0;32mand\u001b[0m \u001b[0mself\u001b[0m\u001b[0;34m.\u001b[0m\u001b[0mtreat_info_as_error\u001b[0m\u001b[0;34m:\u001b[0m\u001b[0;34m\u001b[0m\u001b[0m\n\u001b[1;32m    277\u001b[0m                 \u001b[0;32mraise\u001b[0m \u001b[0mValueError\u001b[0m\u001b[0;34m(\u001b[0m\u001b[0mjson_response\u001b[0m\u001b[0;34m[\u001b[0m\u001b[0;34m\"Information\"\u001b[0m\u001b[0;34m]\u001b[0m\u001b[0;34m)\u001b[0m\u001b[0;34m\u001b[0m\u001b[0m\n",
      "\u001b[0;31mValueError\u001b[0m: Invalid API call. Please retry or visit the documentation (https://www.alphavantage.co/documentation/) for TIME_SERIES_MONTHLY."
     ]
    }
   ],
   "source": [
    "# # pprint(NYSE_or_NASDAQ_2)\n",
    "# NYSE_or_NASDAQ_3 = NYSE_or_NASDAQ[40:4]\n",
    "# # result = pd.DataFrame()\n",
    "# appended_data = []\n",
    "\n",
    "# for ticker in NYSE_or_NASDAQ_3: \n",
    "#     print(ticker)\n",
    "#     ts = TimeSeries(key='BGXZPAKXTF6DXMSS', output_format='pandas')\n",
    "#     data, meta_data = ts.get_monthly(symbol=ticker)\n",
    "#     appended_data.append(data['4. close'])\n",
    "\n",
    "# result2 = pd.concat(appended_data, axis=1)    \n",
    "\n",
    "# pprint(result2)"
   ]
  }
 ],
 "metadata": {
  "kernelspec": {
   "display_name": "Python 3",
   "language": "python",
   "name": "python3"
  },
  "language_info": {
   "codemirror_mode": {
    "name": "ipython",
    "version": 3
   },
   "file_extension": ".py",
   "mimetype": "text/x-python",
   "name": "python",
   "nbconvert_exporter": "python",
   "pygments_lexer": "ipython3",
   "version": "3.6.4"
  }
 },
 "nbformat": 4,
 "nbformat_minor": 2
}
