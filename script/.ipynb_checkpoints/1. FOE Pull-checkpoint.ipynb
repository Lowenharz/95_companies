{
 "cells": [
  {
   "cell_type": "code",
   "execution_count": 1,
   "metadata": {},
   "outputs": [],
   "source": [
    "import pip\n",
    "def install_and_import(package):\n",
    "    import importlib\n",
    "    try:\n",
    "        importlib.import_module(package)\n",
    "    except ImportError:\n",
    "        import pip\n",
    "        pip.main(['install', package])\n",
    "    finally:\n",
    "        globals()[package] = importlib.import_module(package)"
   ]
  },
  {
   "cell_type": "code",
   "execution_count": 2,
   "metadata": {},
   "outputs": [],
   "source": [
    "# Import necessary libraries\n",
    "from pandas_datareader import data\n",
    "import matplotlib.pyplot as plt\n",
    "import pandas as pd\n",
    "import numpy as np\n",
    "from pprint import pprint"
   ]
  },
  {
   "cell_type": "code",
   "execution_count": 3,
   "metadata": {},
   "outputs": [
    {
     "name": "stdout",
     "output_type": "stream",
     "text": [
      "['^GSPC', 'MMM', 'ADBE', 'AMZN', 'ADSK', 'SAM', 'KMX', 'CMG', 'CB', 'CTSH', 'CL', 'COST', 'DIS', 'FDX', 'JWN', 'PNRA', 'QCOM', 'SLB', 'LUV', 'SBUX', 'TROW', 'UPS', 'WFM']\n"
     ]
    }
   ],
   "source": [
    "# Checking all the ones in NYSE and NASDAQ\n",
    "f = open('./foe.txt','r')\n",
    "file_list = f.readlines()\n",
    "FOE = ['^GSPC']\n",
    "for line in file_list: \n",
    "    splited_line =line.split(':') \n",
    "    if splited_line[0] in ['NYSE', 'NASDAQ']:\n",
    "        FOE.append(splited_line[1].strip())\n",
    "print(FOE)"
   ]
  },
  {
   "cell_type": "code",
   "execution_count": 4,
   "metadata": {},
   "outputs": [],
   "source": [
    "# Set start to end dates\n",
    "start_date = '1999-01-01'\n",
    "end_date = '2019-01-01'"
   ]
  },
  {
   "cell_type": "code",
   "execution_count": 5,
   "metadata": {},
   "outputs": [
    {
     "name": "stdout",
     "output_type": "stream",
     "text": [
      "^GSPC\n",
      "MMM\n",
      "ADBE\n",
      "AMZN\n",
      "ADSK\n",
      "SAM\n",
      "KMX\n",
      "CMG\n",
      "CB\n",
      "CTSH\n",
      "CL\n",
      "COST\n",
      "DIS\n",
      "FDX\n",
      "JWN\n",
      "PNRA\n",
      "QCOM\n",
      "SLB\n",
      "LUV\n",
      "SBUX\n",
      "TROW\n",
      "UPS\n",
      "WFM\n"
     ]
    }
   ],
   "source": [
    "appended_data = []\n",
    "\n",
    "for ticker in FOE: \n",
    "    print(ticker)\n",
    "#     left PNRA and wFM due to no logner traded \n",
    "    if ticker == 'PNRA' or  ticker == 'WFM':\n",
    "        continue\n",
    "    stock_data = data.DataReader(ticker, 'yahoo', start_date, end_date)\n",
    "    appended_data.append(stock_data['Close'])\n",
    "\n",
    "result = pd.concat(appended_data, axis=1)    \n",
    "# pprint(result)"
   ]
  },
  {
   "cell_type": "code",
   "execution_count": 6,
   "metadata": {},
   "outputs": [
    {
     "name": "stdout",
     "output_type": "stream",
     "text": [
      "['^GSPC', 'MMM', 'ADBE', 'AMZN', 'ADSK', 'SAM', 'KMX', 'CMG', 'CB', 'CTSH', 'CL', 'COST', 'DIS', 'FDX', 'JWN', 'QCOM', 'SLB', 'LUV', 'SBUX', 'TROW', 'UPS']\n"
     ]
    }
   ],
   "source": [
    "# Rename Column names\n",
    "FOE.remove('PNRA')\n",
    "FOE.remove('WFM')\n",
    "print(FOE)\n",
    "result.columns = FOE"
   ]
  },
  {
   "cell_type": "code",
   "execution_count": 7,
   "metadata": {},
   "outputs": [],
   "source": [
    "# Write Daily data\n",
    "result.to_csv('./FOE_YH.csv')\n",
    "# Write Normalized Daily data\n",
    "result_norm = (result - result.mean()) / (result.max() - result.min())\n",
    "result_norm.to_csv('./FOE_norm_YH.csv')"
   ]
  },
  {
   "cell_type": "code",
   "execution_count": 8,
   "metadata": {},
   "outputs": [],
   "source": [
    "# Resample data to Monthly\n",
    "df = pd.read_csv(\"./FOE_YH.csv\", parse_dates =[\"Date\"], index_col =\"Date\") \n",
    "Monthly_resampled_data = df.resample('M').mean()"
   ]
  },
  {
   "cell_type": "code",
   "execution_count": 9,
   "metadata": {},
   "outputs": [],
   "source": [
    "# Write the Monthly data\n",
    "Monthly_resampled_data.to_csv('./FOE_Monthly.csv')"
   ]
  },
  {
   "cell_type": "code",
   "execution_count": 10,
   "metadata": {},
   "outputs": [],
   "source": [
    "# Write normalized Monthly data\n",
    "Monthly_resampled_data_norm = (Monthly_resampled_data - Monthly_resampled_data.mean()) / (Monthly_resampled_data.max() - Monthly_resampled_data.min())\n",
    "Monthly_resampled_data_norm.to_csv('./FOE_norm_Monthly.csv')"
   ]
  },
  {
   "cell_type": "code",
   "execution_count": 11,
   "metadata": {},
   "outputs": [],
   "source": [
    "# Function to get the first None Empty Value\n",
    "def get_first_values(x):\n",
    "    if x.first_valid_index() is None:\n",
    "        return None\n",
    "    else:\n",
    "        return x[x.first_valid_index()]"
   ]
  },
  {
   "cell_type": "code",
   "execution_count": 12,
   "metadata": {},
   "outputs": [
    {
     "name": "stdout",
     "output_type": "stream",
     "text": [
      "               ^GSPC       MMM       ADBE       AMZN       ADSK        SAM  \\\n",
      "Date                                                                         \n",
      "1999-01-31  1.000000  1.000000   1.000000   1.000000   1.000000   1.000000   \n",
      "1999-02-28  0.998244  1.017967   0.903289   0.814403   0.933515   0.943153   \n",
      "1999-03-31  1.026337  0.996546   1.020444   1.002902   0.916065   0.889882   \n",
      "1999-04-30  1.068853  1.041824   1.210800   1.357082   0.654633   0.861416   \n",
      "1999-05-31  1.066705  1.209430   1.486144   0.996295   0.596536   0.871541   \n",
      "...              ...       ...        ...        ...        ...        ...   \n",
      "2018-09-30  2.323478  5.635067  43.634646  29.309551  13.559320  33.224741   \n",
      "2018-10-31  2.230558  5.345169  41.303822  26.566255  12.353327  30.362101   \n",
      "2018-11-30  2.180723  5.340193  39.082631  24.232102  12.090797  32.382467   \n",
      "2018-12-31  2.055861  5.177278  38.000162  23.247593  11.734494  28.236654   \n",
      "2019-01-31  2.009994  5.090828  36.807808  22.944772  11.533086  25.544912   \n",
      "\n",
      "                  KMX        CMG        CB        CTSH  ...      COST  \\\n",
      "Date                                                    ...             \n",
      "1999-01-31   1.000000        NaN  1.000000    1.000000  ...  1.000000   \n",
      "1999-02-28   0.892670        NaN  0.892363    1.193489  ...  1.073909   \n",
      "1999-03-31   0.820140        NaN  1.005854    1.001997  ...  1.198159   \n",
      "1999-04-30   0.800548        NaN  0.955187    0.674890  ...  1.162556   \n",
      "1999-05-31   0.986682        NaN  1.031137    0.715496  ...  1.055584   \n",
      "...               ...        ...       ...         ...  ...       ...   \n",
      "2018-09-30  31.094241  10.749543  4.420779  107.417925  ...  6.360853   \n",
      "2018-10-31  27.831778   9.815907  4.159908  102.336903  ...  6.101310   \n",
      "2018-11-30  26.075712  10.663519  4.234694   97.739090  ...  6.190112   \n",
      "2018-12-31  24.560419   9.908487  4.138626   92.225091  ...  5.692594   \n",
      "2019-01-31  25.056126   9.934125  4.115737   88.665057  ...  5.508100   \n",
      "\n",
      "                 DIS       FDX       JWN       QCOM       SLB       LUV  \\\n",
      "Date                                                                      \n",
      "1999-01-31  1.000000  1.000000  1.000000   1.000000  1.000000  1.000000   \n",
      "1999-02-28  1.009854  1.041467  1.113946   1.118216  1.008964  1.097175   \n",
      "1999-03-31  1.009884  1.143405  1.071082   1.431824  1.146648  1.201326   \n",
      "1999-04-30  0.974339  1.293315  1.057058   2.736653  1.210374  1.238950   \n",
      "1999-05-31  0.874283  1.384471  0.939685   3.455075  1.240551  1.234821   \n",
      "...              ...       ...       ...        ...       ...       ...   \n",
      "2018-09-30  3.316981  5.963760  3.438252  19.153574  2.463129  5.353492   \n",
      "2018-10-31  3.431179  5.418341  3.320040  17.593455  2.350045  4.878263   \n",
      "2018-11-30  3.438571  5.459907  3.196832  15.202347  1.964302  4.508107   \n",
      "2018-12-31  3.269661  4.392301  2.611963  14.990816  1.589248  4.237876   \n",
      "2019-01-31  3.244152  3.952339  2.579904  15.136547  1.501833  4.048181   \n",
      "\n",
      "                 SBUX      TROW       UPS  \n",
      "Date                                       \n",
      "1999-01-31   1.000000  1.000000       NaN  \n",
      "1999-02-28   0.958145  0.913983       NaN  \n",
      "1999-03-31   1.121262  0.992675       NaN  \n",
      "1999-04-30   1.255392  0.998830       NaN  \n",
      "1999-05-31   1.417267  1.093304       NaN  \n",
      "...               ...       ...       ...  \n",
      "2018-09-30  17.077133  6.308559  1.774716  \n",
      "2018-10-31  17.633996  5.806978  1.683234  \n",
      "2018-11-30  20.455082  5.514972  1.624218  \n",
      "2018-12-31  19.869154  5.221912  1.475359  \n",
      "2019-01-31  19.780133  5.234962  1.435496  \n",
      "\n",
      "[241 rows x 21 columns]\n"
     ]
    }
   ],
   "source": [
    "# Get percentage change from Monthly data\n",
    "First_non_NaN = Monthly_resampled_data.apply(get_first_values)\n",
    "percent_change_monthly = Monthly_resampled_data/ First_non_NaN\n",
    "pprint(percent_change_monthly)\n",
    "percent_change_monthly.to_csv('./FOE_percent_change_Monthly_1999_base.csv')"
   ]
  },
  {
   "cell_type": "code",
   "execution_count": 13,
   "metadata": {},
   "outputs": [],
   "source": [
    "percent_change_monthly_mtm = percent_change_monthly.pct_change()\n",
    "percent_change_monthly_mtm.to_csv('./FOE_mtm_change.csv')"
   ]
  },
  {
   "cell_type": "code",
   "execution_count": null,
   "metadata": {},
   "outputs": [],
   "source": []
  }
 ],
 "metadata": {
  "kernelspec": {
   "display_name": "Python 3",
   "language": "python",
   "name": "python3"
  },
  "language_info": {
   "codemirror_mode": {
    "name": "ipython",
    "version": 3
   },
   "file_extension": ".py",
   "mimetype": "text/x-python",
   "name": "python",
   "nbconvert_exporter": "python",
   "pygments_lexer": "ipython3",
   "version": "3.6.4"
  }
 },
 "nbformat": 4,
 "nbformat_minor": 2
}
