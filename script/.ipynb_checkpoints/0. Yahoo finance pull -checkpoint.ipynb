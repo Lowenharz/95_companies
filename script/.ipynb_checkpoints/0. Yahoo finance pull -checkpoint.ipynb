{
 "cells": [
  {
   "cell_type": "code",
   "execution_count": 1,
   "metadata": {},
   "outputs": [],
   "source": [
    "# Import necessary libraries\n",
    "from pandas_datareader import data\n",
    "import matplotlib.pyplot as plt\n",
    "import pandas as pd\n",
    "import numpy as np\n",
    "from pprint import pprint"
   ]
  },
  {
   "cell_type": "code",
   "execution_count": 2,
   "metadata": {},
   "outputs": [],
   "source": [
    "# Checking all the ones in NYSE and NASDAQ\n",
    "f = open('./stock_ticker.txt','r')\n",
    "file_list = f.readlines()\n",
    "NYSE_or_NASDAQ = ['^GSPC']\n",
    "for line in file_list: \n",
    "    splited_line =line.split(':') \n",
    "    if splited_line[0] in ['NYSE', 'NASDAQ']:\n",
    "        NYSE_or_NASDAQ.append(splited_line[1].strip())\n",
    "# print(NYSE_or_NASDAQ)"
   ]
  },
  {
   "cell_type": "code",
   "execution_count": 3,
   "metadata": {},
   "outputs": [],
   "source": [
    "# Set start to end dates\n",
    "start_date = '1999-01-01'\n",
    "end_date = '2019-01-01'"
   ]
  },
  {
   "cell_type": "code",
   "execution_count": 4,
   "metadata": {},
   "outputs": [
    {
     "name": "stdout",
     "output_type": "stream",
     "text": [
      "^GSPC\n",
      "MMM\n",
      "ACN\n",
      "AFL\n",
      "ALL\n",
      "APTV\n",
      "AGR\n",
      "AVT\n",
      "BBY\n",
      "BMO\n",
      "AVGO\n",
      "CAJ\n",
      "CBRE\n",
      "CL\n",
      "CMI\n",
      "DELL\n",
      "EMN\n",
      "ECL\n",
      "EW\n",
      "LLY\n",
      "FITB\n",
      "FLR\n",
      "AJG\n",
      "G\n",
      "GVA\n",
      "HAS\n",
      "HCA\n",
      "HSIC\n",
      "HPE\n",
      "HLT\n",
      "INGR\n",
      "INTC\n",
      "IBM\n",
      "IP\n",
      "JLL\n",
      "JCI\n",
      "K\n",
      "KMB\n",
      "KSS\n",
      "LDOS\n",
      "LECO\n",
      "LNKD\n",
      "MAN\n",
      "MA\n",
      "MSFT\n",
      "NEE\n",
      "NOK\n",
      "ONB\n",
      "ON\n",
      "OSK\n",
      "OC\n",
      "PAYX\n",
      "PEP\n",
      "PINC\n",
      "PFG\n",
      "PRU\n",
      "RLGY\n",
      "RSG\n",
      "ROK\n",
      "RCL\n",
      "CRM\n",
      "SCHN\n",
      "SNE\n",
      "TMUS\n",
      "TEL\n",
      "TDC\n",
      "TXN\n",
      "AES\n",
      "HIG\n",
      "TKR\n",
      "USB\n",
      "VFC\n",
      "V\n",
      "VOYA\n",
      "WDC\n",
      "WY\n",
      "WIT\n",
      "WH\n"
     ]
    }
   ],
   "source": [
    "appended_data = []\n",
    "\n",
    "for ticker in NYSE_or_NASDAQ: \n",
    "    print(ticker)\n",
    "    if ticker == 'LNKD':\n",
    "        continue\n",
    "    stock_data = data.DataReader(ticker, 'yahoo', start_date, end_date)\n",
    "    appended_data.append(stock_data['Close'])\n",
    "\n",
    "result = pd.concat(appended_data, axis=1)    \n",
    "# pprint(result)"
   ]
  },
  {
   "cell_type": "code",
   "execution_count": 6,
   "metadata": {},
   "outputs": [],
   "source": [
    "# pprint(result)\n",
    "# Rename Column names\n",
    "NYSE_or_NASDAQ_sin_LNKD = NYSE_or_NASDAQ.remove('LNKD')\n",
    "# print(NYSE_or_NASDAQ)\n",
    "result.columns = NYSE_or_NASDAQ"
   ]
  },
  {
   "cell_type": "code",
   "execution_count": 7,
   "metadata": {},
   "outputs": [],
   "source": [
    "# Write Daily data\n",
    "result.to_csv('./NASDQ_or_NYSE_YH.csv')"
   ]
  },
  {
   "cell_type": "code",
   "execution_count": 8,
   "metadata": {},
   "outputs": [],
   "source": [
    "# Write Normalized Daily data\n",
    "result_norm = (result - result.mean()) / (result.max() - result.min())\n",
    "result_norm.to_csv('./NASDQ_or_NYSE_norm_YH.csv')"
   ]
  },
  {
   "cell_type": "code",
   "execution_count": 9,
   "metadata": {},
   "outputs": [],
   "source": [
    "# Resample data to Monthly\n",
    "df = pd.read_csv(\"./NASDQ_or_NYSE_YH.csv\", parse_dates =[\"Date\"], index_col =\"Date\") \n",
    "Monthly_resampled_data = df.resample('M').mean()\n",
    "# pprint(Monthly_resampled_data)"
   ]
  },
  {
   "cell_type": "code",
   "execution_count": 10,
   "metadata": {},
   "outputs": [],
   "source": [
    "# Write the Monthly data\n",
    "Monthly_resampled_data.to_csv('./NASDQ_or_NYSE_Monthly.csv')"
   ]
  },
  {
   "cell_type": "code",
   "execution_count": 11,
   "metadata": {},
   "outputs": [],
   "source": [
    "# Write normalized Monthly data\n",
    "Monthly_resampled_data_norm = (Monthly_resampled_data - Monthly_resampled_data.mean()) / (Monthly_resampled_data.max() - Monthly_resampled_data.min())\n",
    "Monthly_resampled_data_norm.to_csv('./NASDQ_or_NYSE_norm_Monthly.csv')\n",
    "# pprint(Monthly_resampled_data_norm)"
   ]
  },
  {
   "cell_type": "code",
   "execution_count": 12,
   "metadata": {},
   "outputs": [],
   "source": [
    "# Function to get the first None Empty Value\n",
    "def get_first_values(x):\n",
    "    if x.first_valid_index() is None:\n",
    "        return None\n",
    "    else:\n",
    "        return x[x.first_valid_index()]"
   ]
  },
  {
   "cell_type": "code",
   "execution_count": 14,
   "metadata": {},
   "outputs": [],
   "source": [
    "# Get percentage change from Monthly data\n",
    "First_non_NaN = Monthly_resampled_data.apply(get_first_values)\n",
    "percent_change_monthly = Monthly_resampled_data/ First_non_NaN\n",
    "# pprint(percent_change_monthly)\n",
    "percent_change_monthly.to_csv('./NASDQ_or_NYSE_percent_change_Monthly_1999_base.csv')\n",
    "# pprint(percent_change_monthly)"
   ]
  },
  {
   "cell_type": "code",
   "execution_count": 17,
   "metadata": {},
   "outputs": [],
   "source": [
    "percent_change_monthly_mtm = percent_change_monthly.pct_change()\n",
    "percent_change_monthly_mtm.to_csv('./NASDQ_or_NYSE_mtm_change.csv')"
   ]
  },
  {
   "cell_type": "code",
   "execution_count": null,
   "metadata": {},
   "outputs": [],
   "source": []
  }
 ],
 "metadata": {
  "kernelspec": {
   "display_name": "Python 3",
   "language": "python",
   "name": "python3"
  },
  "language_info": {
   "codemirror_mode": {
    "name": "ipython",
    "version": 3
   },
   "file_extension": ".py",
   "mimetype": "text/x-python",
   "name": "python",
   "nbconvert_exporter": "python",
   "pygments_lexer": "ipython3",
   "version": "3.6.4"
  }
 },
 "nbformat": 4,
 "nbformat_minor": 2
}
