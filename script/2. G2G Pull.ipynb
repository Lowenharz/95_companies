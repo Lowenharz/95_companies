{
 "cells": [
  {
   "cell_type": "code",
   "execution_count": 1,
   "metadata": {},
   "outputs": [],
   "source": [
    "import pip\n",
    "def install_and_import(package):\n",
    "    import importlib\n",
    "    try:\n",
    "        importlib.import_module(package)\n",
    "    except ImportError:\n",
    "        import pip\n",
    "        pip.main(['install', package])\n",
    "    finally:\n",
    "        globals()[package] = importlib.import_module(package)"
   ]
  },
  {
   "cell_type": "code",
   "execution_count": 2,
   "metadata": {},
   "outputs": [],
   "source": [
    "# Import necessary libraries\n",
    "from pandas_datareader import data\n",
    "import matplotlib.pyplot as plt\n",
    "import pandas as pd\n",
    "import numpy as np\n",
    "from pprint import pprint"
   ]
  },
  {
   "cell_type": "code",
   "execution_count": 3,
   "metadata": {},
   "outputs": [
    {
     "name": "stdout",
     "output_type": "stream",
     "text": [
      "['^GSPC', 'ABT', 'KMX', 'FNMA', 'PG', 'KMB', 'KR', 'NUE', 'PM', 'PBI', 'WBA', 'WFC']\n"
     ]
    }
   ],
   "source": [
    "# Checking all the ones in NYSE and NASDAQ\n",
    "f = open('./g2g.txt','r')\n",
    "file_list = f.readlines()\n",
    "G2G = ['^GSPC']\n",
    "for line in file_list: \n",
    "    splited_line =line.split(':') \n",
    "    if splited_line[0] in ['NYSE', 'NASDAQ']:\n",
    "        G2G.append(splited_line[1].strip())\n",
    "print(G2G)"
   ]
  },
  {
   "cell_type": "code",
   "execution_count": 4,
   "metadata": {},
   "outputs": [],
   "source": [
    "# Set start to end dates\n",
    "start_date = '1999-01-01'\n",
    "end_date = '2019-01-01'"
   ]
  },
  {
   "cell_type": "code",
   "execution_count": 5,
   "metadata": {},
   "outputs": [
    {
     "name": "stdout",
     "output_type": "stream",
     "text": [
      "^GSPC\n",
      "ABT\n",
      "KMX\n",
      "FNMA\n",
      "PG\n",
      "KMB\n",
      "KR\n",
      "NUE\n",
      "PM\n",
      "PBI\n",
      "WBA\n",
      "WFC\n"
     ]
    }
   ],
   "source": [
    "appended_data = []\n",
    "\n",
    "for ticker in G2G: \n",
    "    print(ticker)\n",
    "    if ticker == 'KMX':\n",
    "        continue\n",
    "    stock_data = data.DataReader(ticker, 'yahoo', start_date, end_date)\n",
    "    appended_data.append(stock_data['Close'])\n",
    "\n",
    "result = pd.concat(appended_data, axis=1)    \n",
    "# pprint(result)"
   ]
  },
  {
   "cell_type": "code",
   "execution_count": 7,
   "metadata": {},
   "outputs": [
    {
     "ename": "ValueError",
     "evalue": "list.remove(x): x not in list",
     "output_type": "error",
     "traceback": [
      "\u001b[0;31m---------------------------------------------------------------------------\u001b[0m",
      "\u001b[0;31mValueError\u001b[0m                                Traceback (most recent call last)",
      "\u001b[0;32m<ipython-input-7-91e43073eb35>\u001b[0m in \u001b[0;36m<module>\u001b[0;34m()\u001b[0m\n\u001b[1;32m      1\u001b[0m \u001b[0;31m# Rename Column names\u001b[0m\u001b[0;34m\u001b[0m\u001b[0;34m\u001b[0m\u001b[0m\n\u001b[0;32m----> 2\u001b[0;31m \u001b[0mG2G\u001b[0m\u001b[0;34m.\u001b[0m\u001b[0mremove\u001b[0m\u001b[0;34m(\u001b[0m\u001b[0;34m'KMX'\u001b[0m\u001b[0;34m)\u001b[0m\u001b[0;34m\u001b[0m\u001b[0m\n\u001b[0m\u001b[1;32m      3\u001b[0m \u001b[0mprint\u001b[0m\u001b[0;34m(\u001b[0m\u001b[0mG2G\u001b[0m\u001b[0;34m)\u001b[0m\u001b[0;34m\u001b[0m\u001b[0m\n\u001b[1;32m      4\u001b[0m \u001b[0mresult\u001b[0m\u001b[0;34m.\u001b[0m\u001b[0mcolumns\u001b[0m \u001b[0;34m=\u001b[0m \u001b[0mG2G\u001b[0m\u001b[0;34m\u001b[0m\u001b[0m\n",
      "\u001b[0;31mValueError\u001b[0m: list.remove(x): x not in list"
     ]
    }
   ],
   "source": [
    "# Rename Column names\n",
    "G2G.remove('KMX')\n",
    "print(G2G)\n",
    "result.columns = G2G"
   ]
  },
  {
   "cell_type": "code",
   "execution_count": 8,
   "metadata": {},
   "outputs": [],
   "source": [
    "# Write Daily data\n",
    "result.to_csv('./G2G_YH.csv')\n",
    "# Write Normalized Daily data\n",
    "result_norm = (result - result.mean()) / (result.max() - result.min())\n",
    "result_norm.to_csv('./G2G_norm_YH.csv')"
   ]
  },
  {
   "cell_type": "code",
   "execution_count": 9,
   "metadata": {},
   "outputs": [],
   "source": [
    "# Resample data to Monthly\n",
    "df = pd.read_csv(\"./G2G_YH.csv\", parse_dates =[\"Date\"], index_col =\"Date\") \n",
    "Monthly_resampled_data = df.resample('M').mean()"
   ]
  },
  {
   "cell_type": "code",
   "execution_count": 10,
   "metadata": {},
   "outputs": [],
   "source": [
    "# Write the Monthly data\n",
    "Monthly_resampled_data.to_csv('./G2G_Monthly.csv')"
   ]
  },
  {
   "cell_type": "code",
   "execution_count": 11,
   "metadata": {},
   "outputs": [],
   "source": [
    "# Write normalized Monthly data\n",
    "Monthly_resampled_data_norm = (Monthly_resampled_data - Monthly_resampled_data.mean()) / (Monthly_resampled_data.max() - Monthly_resampled_data.min())\n",
    "Monthly_resampled_data_norm.to_csv('./G2G_norm_Monthly.csv')"
   ]
  },
  {
   "cell_type": "code",
   "execution_count": 12,
   "metadata": {},
   "outputs": [],
   "source": [
    "# Function to get the first None Empty Value\n",
    "def get_first_values(x):\n",
    "    if x.first_valid_index() is None:\n",
    "        return None\n",
    "    else:\n",
    "        return x[x.first_valid_index()]"
   ]
  },
  {
   "cell_type": "code",
   "execution_count": 13,
   "metadata": {},
   "outputs": [],
   "source": [
    "# Get percentage change from Monthly data\n",
    "First_non_NaN = Monthly_resampled_data.apply(get_first_values)\n",
    "percent_change_monthly = Monthly_resampled_data/ First_non_NaN\n",
    "# pprint(percent_change_monthly)\n",
    "percent_change_monthly.to_csv('./G2G_percent_change_Monthly_1999_base.csv')"
   ]
  },
  {
   "cell_type": "code",
   "execution_count": 14,
   "metadata": {},
   "outputs": [],
   "source": [
    "percent_change_monthly_mtm = percent_change_monthly.pct_change()\n",
    "percent_change_monthly_mtm.to_csv('./G2G_mtm_change.csv')"
   ]
  },
  {
   "cell_type": "code",
   "execution_count": null,
   "metadata": {},
   "outputs": [],
   "source": []
  }
 ],
 "metadata": {
  "kernelspec": {
   "display_name": "Python 3",
   "language": "python",
   "name": "python3"
  },
  "language_info": {
   "codemirror_mode": {
    "name": "ipython",
    "version": 3
   },
   "file_extension": ".py",
   "mimetype": "text/x-python",
   "name": "python",
   "nbconvert_exporter": "python",
   "pygments_lexer": "ipython3",
   "version": "3.6.4"
  }
 },
 "nbformat": 4,
 "nbformat_minor": 2
}
