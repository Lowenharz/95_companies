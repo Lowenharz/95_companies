{
 "cells": [
  {
   "cell_type": "code",
   "execution_count": 1,
   "metadata": {},
   "outputs": [],
   "source": [
    "import pip"
   ]
  },
  {
   "cell_type": "code",
   "execution_count": 2,
   "metadata": {},
   "outputs": [],
   "source": [
    "def install_and_import(package):\n",
    "    import importlib\n",
    "    try:\n",
    "        importlib.import_module(package)\n",
    "    except ImportError:\n",
    "        import pip\n",
    "        pip.main(['install', package])\n",
    "    finally:\n",
    "        globals()[package] = importlib.import_module(package)"
   ]
  },
  {
   "cell_type": "code",
   "execution_count": 4,
   "metadata": {},
   "outputs": [
    {
     "name": "stderr",
     "output_type": "stream",
     "text": [
      "Matplotlib is building the font cache using fc-list. This may take a moment.\n"
     ]
    }
   ],
   "source": [
    "# install_and_import('alpha_vantage')\n",
    "# install_and_import('pandas')\n",
    "# install_and_import('matplotlib')"
   ]
  },
  {
   "cell_type": "code",
   "execution_count": 3,
   "metadata": {},
   "outputs": [],
   "source": [
    "from alpha_vantage.timeseries import TimeSeries\n",
    "import matplotlib.pyplot as plt\n",
    "from pprint import pprint\n",
    "import pandas as pd"
   ]
  },
  {
   "cell_type": "code",
   "execution_count": 5,
   "metadata": {},
   "outputs": [
    {
     "name": "stdout",
     "output_type": "stream",
     "text": [
      "              1. open    2. high     3. low   4. close     5. volume\n",
      "date                                                                \n",
      "2019-09-26  2909.0100  3021.9900  2891.8501  2977.6201  6.601356e+10\n",
      "2019-08-30  2980.3201  3013.5901  2822.1201  2926.4600  7.959944e+10\n"
     ]
    }
   ],
   "source": [
    "# ts = TimeSeries(key='GBGYE5KAQ6QKCCQG', output_format='pandas')\n",
    "# data, meta_data = ts.get_monthly(symbol='SPX')\n",
    "# pprint(data.head(2))"
   ]
  },
  {
   "cell_type": "code",
   "execution_count": 8,
   "metadata": {},
   "outputs": [
    {
     "data": {
      "image/png": "[encoded data removed]",
      "text/plain": [
       "<Figure size 432x288 with 1 Axes>"
      ]
     },
     "metadata": {},
     "output_type": "display_data"
    }
   ],
   "source": [
    "# ts = TimeSeries(key='YOUR_API_KEY', output_format='pandas')\n",
    "# data, meta_data = ts.get_monthly(symbol='AVGO')\n",
    "# data['4. close'].plot()\n",
    "# plt.title('Intraday Times Series for the AVGO stock (1 min)')\n",
    "# plt.show()"
   ]
  },
  {
   "cell_type": "code",
   "execution_count": 1,
   "metadata": {},
   "outputs": [
    {
     "name": "stdout",
     "output_type": "stream",
     "text": [
      "['^GSPC', 'MMM', 'ACN', 'AFL', 'ALL', 'APTV', 'AGR', 'AVT', 'BBY', 'BMO', 'AVGO', 'CAJ', 'CBRE', 'CL', 'CMI', 'DELL', 'EMN', 'ECL', 'EW', 'LLY', 'FITB', 'FLR', 'AJG', 'G', 'GVA', 'HAS', 'HCA', 'HSIC', 'HPE', 'HLT', 'INGR', 'INTC', 'IBM', 'IP', 'JLL', 'JCI', 'K', 'KMB', 'KSS', 'LDOS', 'LECO', 'LNKD', 'MAN', 'MA', 'MSFT', 'NEE', 'NOK', 'ONB', 'ON', 'OSK', 'OC', 'PAYX', 'PEP', 'PINC', 'PFG', 'PRU', 'RLGY', 'RSG', 'ROK', 'RCL', 'CRM', 'SCHN', 'SNE', 'TMUS', 'TEL', 'TDC', 'TXN', 'AES', 'HIG', 'TKR', 'USB', 'VFC', 'V', 'VOYA', 'WDC', 'WY', 'WIT', 'WH']\n"
     ]
    }
   ],
   "source": [
    "f = open('./stock_ticker.txt','r')\n",
    "file_list = f.readlines()\n",
    "NYSE_or_NASDAQ = ['^GSPC']\n",
    "for line in file_list: \n",
    "    splited_line =line.split(':') \n",
    "    if splited_line[0] in ['NYSE', 'NASDAQ']:\n",
    "        NYSE_or_NASDAQ.append(splited_line[1].strip())\n",
    "print(NYSE_or_NASDAQ)\n",
    "# len(NYSE_or_NASDAQ)"
   ]
  },
  {
   "cell_type": "code",
   "execution_count": 2,
   "metadata": {},
   "outputs": [
    {
     "name": "stdout",
     "output_type": "stream",
     "text": [
      "^GSPC\n"
     ]
    },
    {
     "ename": "NameError",
     "evalue": "name 'TimeSeries' is not defined",
     "output_type": "error",
     "traceback": [
      "\u001b[0;31m---------------------------------------------------------------------------\u001b[0m",
      "\u001b[0;31mNameError\u001b[0m                                 Traceback (most recent call last)",
      "\u001b[0;32m<ipython-input-2-669b611458a3>\u001b[0m in \u001b[0;36m<module>\u001b[0;34m()\u001b[0m\n\u001b[1;32m     17\u001b[0m     \u001b[0;32mif\u001b[0m \u001b[0mticker\u001b[0m \u001b[0;34m==\u001b[0m \u001b[0;34m'LNKD'\u001b[0m\u001b[0;34m:\u001b[0m\u001b[0;34m\u001b[0m\u001b[0m\n\u001b[1;32m     18\u001b[0m         \u001b[0;32mcontinue\u001b[0m\u001b[0;34m\u001b[0m\u001b[0m\n\u001b[0;32m---> 19\u001b[0;31m     \u001b[0mts\u001b[0m \u001b[0;34m=\u001b[0m \u001b[0mTimeSeries\u001b[0m\u001b[0;34m(\u001b[0m\u001b[0mkey\u001b[0m\u001b[0;34m=\u001b[0m\u001b[0;34m'BGXZPAKXTF6DXMSS'\u001b[0m\u001b[0;34m,\u001b[0m \u001b[0moutput_format\u001b[0m\u001b[0;34m=\u001b[0m\u001b[0;34m'pandas'\u001b[0m\u001b[0;34m)\u001b[0m\u001b[0;34m\u001b[0m\u001b[0m\n\u001b[0m\u001b[1;32m     20\u001b[0m     \u001b[0mdata\u001b[0m\u001b[0;34m,\u001b[0m \u001b[0mmeta_data\u001b[0m \u001b[0;34m=\u001b[0m \u001b[0mts\u001b[0m\u001b[0;34m.\u001b[0m\u001b[0mget_weekly\u001b[0m\u001b[0;34m(\u001b[0m\u001b[0msymbol\u001b[0m\u001b[0;34m=\u001b[0m\u001b[0mticker\u001b[0m\u001b[0;34m)\u001b[0m\u001b[0;34m\u001b[0m\u001b[0m\n\u001b[1;32m     21\u001b[0m     \u001b[0mappended_data\u001b[0m\u001b[0;34m.\u001b[0m\u001b[0mappend\u001b[0m\u001b[0;34m(\u001b[0m\u001b[0mdata\u001b[0m\u001b[0;34m[\u001b[0m\u001b[0;34m'4. close'\u001b[0m\u001b[0;34m]\u001b[0m\u001b[0;34m)\u001b[0m\u001b[0;34m\u001b[0m\u001b[0m\n",
      "\u001b[0;31mNameError\u001b[0m: name 'TimeSeries' is not defined"
     ]
    }
   ],
   "source": [
    "# ticker  = NYSE_or_NASDAQ[0]\n",
    "# ts = TimeSeries(key='GBGYE5KAQ6QKCCQG', output_format='pandas')\n",
    "# data1, meta_data = ts.get_monthly(symbol=ticker)\n",
    "# pprint(data1.head(3))\n",
    "\n",
    "# ticker  = NYSE_or_NASDAQ[1]\n",
    "# ts = TimeSeries(key='GBGYE5KAQ6QKCCQG', output_format='pandas')\n",
    "# data2, meta_data = ts.get_monthly(symbol=ticker)\n",
    "# pprint(data2.head(3))\n",
    "\n",
    "# NYSE_or_NASDAQ_2 = NYSE_or_NASDAQ\n",
    "# result = pd.DataFrame()\n",
    "appended_data = []\n",
    "\n",
    "for ticker in NYSE_or_NASDAQ: \n",
    "    print(ticker)\n",
    "    if ticker == 'LNKD':\n",
    "        continue\n",
    "    ts = TimeSeries(key='BGXZPAKXTF6DXMSS', output_format='pandas')\n",
    "    data, meta_data = ts.get_weekly(symbol=ticker)\n",
    "    appended_data.append(data['4. close'])\n",
    "\n",
    "result = pd.concat(appended_data, axis=1)    \n",
    "\n",
    "pprint(result)\n",
    "\n",
    "\n",
    "# result = pd.concat([data1['4. close'], data2['4. close']], axis=1)\n",
    "\n",
    "# # df = pd.DataFrame(data, index=index, columns=columns)\n",
    "# # pprint(data['4. close'].head(2))\n"
   ]
  },
  {
   "cell_type": "code",
   "execution_count": 6,
   "metadata": {},
   "outputs": [
    {
     "name": "stdout",
     "output_type": "stream",
     "text": [
      "['SPX', 'MMM', 'ACN', 'AFL', 'ALL', 'APTV', 'AGR', 'AVT', 'BBY', 'BMO', 'AVGO', 'CAJ', 'CBRE', 'CL', 'CMI', 'DELL', 'EMN', 'ECL', 'EW', 'LLY', 'FITB', 'FLR', 'AJG', 'G', 'GVA', 'HAS', 'HCA', 'HSIC', 'HPE', 'HLT', 'INGR', 'INTC', 'IBM', 'IP', 'JLL', 'JCI', 'K', 'KMB', 'KSS', 'LDOS', 'LECO', 'MAN', 'MA', 'MSFT', 'NEE', 'NOK', 'ONB', 'ON', 'OSK', 'OC', 'PAYX', 'PEP', 'PINC', 'PFG', 'PRU', 'RLGY', 'RSG', 'ROK', 'RCL', 'CRM', 'SCHN', 'SNE', 'TMUS', 'TEL', 'TDC', 'TXN', 'AES', 'HIG', 'TKR', 'USB', 'VFC', 'V', 'VOYA', 'WDC', 'WY', 'WIT', 'WH']\n"
     ]
    }
   ],
   "source": [
    "# ts = TimeSeries(key='GBGYE5KAQ6QKCCQG', output_format='pandas')\n",
    "# data1, meta_data = ts.get_monthly(symbol='MAN')\n",
    "# pprint(data1.head(3))\n",
    "NYSE_or_NASDAQ.remove('LNKD')\n",
    "# NYSE_or_NASDAQ.append('LNKD')\n",
    "print(NYSE_or_NASDAQ)\n",
    "\n",
    "# ts = TimeSeries(key='BGXZPAKXTF6DXMSS', output_format='pandas')\n",
    "# data, meta_data = ts.get_monthly(symbol='LNKD')\n",
    "# pprint(data)"
   ]
  },
  {
   "cell_type": "code",
   "execution_count": 7,
   "metadata": {},
   "outputs": [],
   "source": [
    "result.columns=NYSE_or_NASDAQ"
   ]
  },
  {
   "cell_type": "code",
   "execution_count": 8,
   "metadata": {},
   "outputs": [
    {
     "name": "stdout",
     "output_type": "stream",
     "text": [
      "                  SPX      MMM     ACN     AFL      ALL   APTV    AGR     AVT  \\\n",
      "date                                                                            \n",
      "1999-10-08        NaN   95.250     NaN  45.188   23.563    NaN    NaN  39.625   \n",
      "1999-10-15        NaN   89.375     NaN  43.000   23.563    NaN    NaN  39.000   \n",
      "1999-10-22        NaN   92.563     NaN  45.563   25.000    NaN    NaN  44.563   \n",
      "1999-10-29        NaN   95.063     NaN  51.125   29.000    NaN    NaN  54.563   \n",
      "1999-11-05        NaN   95.688     NaN  52.313   29.438    NaN    NaN  53.375   \n",
      "...               ...      ...     ...     ...      ...    ...    ...     ...   \n",
      "2019-08-30  2926.4600  161.720  198.17  50.180  102.390  83.17  50.54  41.890   \n",
      "2019-09-06  2978.7100  163.940  201.12  51.570  105.310  88.75  50.21  43.820   \n",
      "2019-09-13  3007.3899  171.440  194.62  51.770  105.810  90.18  50.81  44.690   \n",
      "2019-09-20  2992.0701  166.760  193.09  51.970  107.920  87.07  51.57  43.300   \n",
      "2019-09-26  2977.6201  163.830  192.12  51.910  108.110  87.71  52.04  44.120   \n",
      "\n",
      "               BBY     BMO  ...     HIG     TKR     USB     VFC       V  \\\n",
      "date                        ...                                           \n",
      "1999-10-08  67.250  36.000  ...  41.125  18.000  26.688  30.375     NaN   \n",
      "1999-10-15  61.750  33.875  ...  37.625  17.563  23.375  28.250     NaN   \n",
      "1999-10-22  59.313  36.000  ...  43.875  17.688  26.625  29.688     NaN   \n",
      "1999-10-29  55.750  38.063  ...  51.813  17.938  29.375  30.063     NaN   \n",
      "1999-11-05  50.625  35.188  ...  53.438  18.500  28.250  30.750     NaN   \n",
      "...            ...     ...  ...     ...     ...     ...     ...     ...   \n",
      "2019-08-30  63.650  68.630  ...  58.280  40.180  52.690  81.950  180.82   \n",
      "2019-09-06  66.350  69.910  ...  60.320  41.000  53.410  87.610  185.74   \n",
      "2019-09-13  67.540  72.690  ...  60.320  44.630  56.080  90.300  177.27   \n",
      "2019-09-20  66.770  73.460  ...  60.440  44.210  55.440  85.670  174.06   \n",
      "2019-09-26  66.960  73.030  ...  60.610  43.440  55.570  88.070  175.65   \n",
      "\n",
      "             VOYA     WDC      WY   WIT     WH  \n",
      "date                                            \n",
      "1999-10-08    NaN   3.625  59.875   NaN    NaN  \n",
      "1999-10-15    NaN   3.500  58.938   NaN    NaN  \n",
      "1999-10-22    NaN   3.438  55.875   NaN    NaN  \n",
      "1999-10-29    NaN   3.250  59.688   NaN    NaN  \n",
      "1999-11-05    NaN   2.813  64.250   NaN    NaN  \n",
      "...           ...     ...     ...   ...    ...  \n",
      "2019-08-30  49.32  57.270  26.310  3.82  51.38  \n",
      "2019-09-06  51.03  62.240  26.710  3.74  52.14  \n",
      "2019-09-13  54.76  64.600  27.410  3.74  53.72  \n",
      "2019-09-20  54.80  60.680  27.640  3.72  53.22  \n",
      "2019-09-26  54.30  61.800  27.900  3.62  51.41  \n",
      "\n",
      "[1044 rows x 77 columns]\n"
     ]
    }
   ],
   "source": [
    "print(result)"
   ]
  },
  {
   "cell_type": "code",
   "execution_count": 9,
   "metadata": {},
   "outputs": [],
   "source": [
    "result.to_csv('./NASDQ_or_NYSE.csv')"
   ]
  },
  {
   "cell_type": "code",
   "execution_count": 11,
   "metadata": {},
   "outputs": [],
   "source": [
    "result_norm = (result - result.mean()) / (result.max() - result.min())"
   ]
  },
  {
   "cell_type": "code",
   "execution_count": 12,
   "metadata": {},
   "outputs": [],
   "source": [
    "result_norm.to_csv('./NASDQ_or_NYSE_norm.csv')"
   ]
  }
 ],
 "metadata": {
  "kernelspec": {
   "display_name": "Python 3",
   "language": "python",
   "name": "python3"
  },
  "language_info": {
   "codemirror_mode": {
    "name": "ipython",
    "version": 3
   },
   "file_extension": ".py",
   "mimetype": "text/x-python",
   "name": "python",
   "nbconvert_exporter": "python",
   "pygments_lexer": "ipython3",
   "version": "3.6.4"
  }
 },
 "nbformat": 4,
 "nbformat_minor": 2
}
