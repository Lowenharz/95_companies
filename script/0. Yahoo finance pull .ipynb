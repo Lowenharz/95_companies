{
 "cells": [
  {
   "cell_type": "code",
   "execution_count": 1,
   "metadata": {},
   "outputs": [],
   "source": [
    "# Import necessary libraries\n",
    "from pandas_datareader import data\n",
    "import matplotlib.pyplot as plt\n",
    "import pandas as pd\n",
    "import numpy as np\n",
    "from pprint import pprint"
   ]
  },
  {
   "cell_type": "code",
   "execution_count": 2,
   "metadata": {},
   "outputs": [],
   "source": [
    "# Checking all the ones in NYSE and NASDAQ\n",
    "f = open('./stock_ticker.txt','r')\n",
    "file_list = f.readlines()\n",
    "NYSE_or_NASDAQ = ['^GSPC']\n",
    "for line in file_list: \n",
    "    splited_line =line.split(':') \n",
    "    if splited_line[0] in ['NYSE', 'NASDAQ']:\n",
    "        NYSE_or_NASDAQ.append(splited_line[1].strip())\n",
    "# print(NYSE_or_NASDAQ)"
   ]
  },
  {
   "cell_type": "code",
   "execution_count": 3,
   "metadata": {},
   "outputs": [],
   "source": [
    "# Set start to end dates\n",
    "start_date = '1999-01-01'\n",
    "end_date = '2019-01-01'"
   ]
  },
  {
   "cell_type": "code",
   "execution_count": 4,
   "metadata": {},
   "outputs": [
    {
     "name": "stdout",
     "output_type": "stream",
     "text": [
      "^GSPC\n",
      "MMM\n",
      "ACN\n",
      "AFL\n",
      "ALL\n",
      "APTV\n",
      "AGR\n",
      "AVT\n",
      "BBY\n",
      "BMO\n",
      "AVGO\n",
      "CAJ\n",
      "CBRE\n",
      "CL\n",
      "CMI\n",
      "DELL\n",
      "EMN\n",
      "ECL\n",
      "EW\n",
      "LLY\n",
      "FITB\n",
      "FLR\n",
      "AJG\n",
      "G\n",
      "GVA\n",
      "HAS\n",
      "HCA\n",
      "HSIC\n",
      "HPE\n",
      "HLT\n",
      "INGR\n",
      "INTC\n",
      "IBM\n",
      "IP\n",
      "JLL\n",
      "JCI\n",
      "K\n",
      "KMB\n",
      "KSS\n",
      "LDOS\n",
      "LECO\n",
      "LNKD\n",
      "MAN\n",
      "MA\n",
      "MSFT\n",
      "NEE\n",
      "NOK\n",
      "ONB\n",
      "ON\n",
      "OSK\n",
      "OC\n",
      "PAYX\n",
      "PEP\n",
      "PINC\n",
      "PFG\n",
      "PRU\n",
      "RLGY\n",
      "RSG\n",
      "ROK\n",
      "RCL\n",
      "CRM\n",
      "SCHN\n",
      "SNE\n",
      "TMUS\n",
      "TEL\n",
      "TDC\n",
      "TXN\n",
      "AES\n",
      "HIG\n",
      "TKR\n",
      "USB\n",
      "VFC\n",
      "V\n",
      "VOYA\n",
      "WDC\n",
      "WY\n",
      "WIT\n",
      "WH\n"
     ]
    }
   ],
   "source": [
    "appended_data = []\n",
    "\n",
    "for ticker in NYSE_or_NASDAQ: \n",
    "    print(ticker)\n",
    "    if ticker == 'LNKD':\n",
    "        continue\n",
    "    stock_data = data.DataReader(ticker, 'yahoo', start_date, end_date)\n",
    "    appended_data.append(stock_data['Close'])\n",
    "\n",
    "result = pd.concat(appended_data, axis=1)    \n",
    "# pprint(result)"
   ]
  },
  {
   "cell_type": "code",
   "execution_count": 6,
   "metadata": {},
   "outputs": [],
   "source": [
    "# pprint(result)\n",
    "# Rename Column names\n",
    "NYSE_or_NASDAQ_sin_LNKD = NYSE_or_NASDAQ.remove('LNKD')\n",
    "# print(NYSE_or_NASDAQ)\n",
    "result.columns = NYSE_or_NASDAQ"
   ]
  },
  {
   "cell_type": "code",
   "execution_count": 7,
   "metadata": {},
   "outputs": [],
   "source": [
    "# Write Daily data\n",
    "result.to_csv('./NASDQ_or_NYSE_YH.csv')"
   ]
  },
  {
   "cell_type": "code",
   "execution_count": 8,
   "metadata": {},
   "outputs": [],
   "source": [
    "# Write Normalized Daily data\n",
    "result_norm = (result - result.mean()) / (result.max() - result.min())\n",
    "result_norm.to_csv('./NASDQ_or_NYSE_norm_YH.csv')"
   ]
  },
  {
   "cell_type": "code",
   "execution_count": 9,
   "metadata": {},
   "outputs": [],
   "source": [
    "# Resample data to Monthly\n",
    "df = pd.read_csv(\"./NASDQ_or_NYSE_YH.csv\", parse_dates =[\"Date\"], index_col =\"Date\") \n",
    "Monthly_resampled_data = df.resample('M').mean()\n",
    "# pprint(Monthly_resampled_data)"
   ]
  },
  {
   "cell_type": "code",
   "execution_count": 10,
   "metadata": {},
   "outputs": [],
   "source": [
    "# Write the Monthly data\n",
    "Monthly_resampled_data.to_csv('./NASDQ_or_NYSE_Monthly.csv')"
   ]
  },
  {
   "cell_type": "code",
   "execution_count": 11,
   "metadata": {},
   "outputs": [],
   "source": [
    "# Write normalized Monthly data\n",
    "Monthly_resampled_data_norm = (Monthly_resampled_data - Monthly_resampled_data.mean()) / (Monthly_resampled_data.max() - Monthly_resampled_data.min())\n",
    "Monthly_resampled_data_norm.to_csv('./NASDQ_or_NYSE_norm_Monthly.csv')\n",
    "# pprint(Monthly_resampled_data_norm)"
   ]
  },
  {
   "cell_type": "code",
   "execution_count": 12,
   "metadata": {},
   "outputs": [],
   "source": [
    "# Function to get the first None Empty Value\n",
    "def get_first_values(x):\n",
    "    if x.first_valid_index() is None:\n",
    "        return None\n",
    "    else:\n",
    "        return x[x.first_valid_index()]"
   ]
  },
  {
   "cell_type": "code",
   "execution_count": 14,
   "metadata": {},
   "outputs": [],
   "source": [
    "# Get percentage change from Monthly data\n",
    "First_non_NaN = Monthly_resampled_data.apply(get_first_values)\n",
    "percent_change_monthly = Monthly_resampled_data/ First_non_NaN\n",
    "# pprint(percent_change_monthly)\n",
    "percent_change_monthly.to_csv('./NASDQ_or_NYSE_percent_change_Monthly_1999_base.csv')\n",
    "# pprint(percent_change_monthly)"
   ]
  },
  {
   "cell_type": "code",
   "execution_count": 18,
   "metadata": {},
   "outputs": [],
   "source": [
    "percent_change_monthly_mtm = percent_change_monthly.pct_change()\n",
    "percent_change_monthly_mtm.to_csv('./NASDQ_or_NYSE_mtm_change.csv')"
   ]
  },
  {
   "cell_type": "code",
   "execution_count": 19,
   "metadata": {},
   "outputs": [
    {
     "name": "stdout",
     "output_type": "stream",
     "text": [
      "               ^GSPC       MMM       ACN       AFL       ALL      APTV  \\\n",
      "Date                                                                     \n",
      "1999-01-31       NaN       NaN       NaN       NaN       NaN       NaN   \n",
      "1999-02-28 -0.001756  0.017967       NaN  0.121809 -0.013878       NaN   \n",
      "1999-03-31  0.028142 -0.021043       NaN  0.044992  0.029794       NaN   \n",
      "1999-04-30  0.041425  0.045435       NaN  0.035410 -0.039373       NaN   \n",
      "1999-05-31 -0.002010  0.160878       NaN  0.003573  0.036655       NaN   \n",
      "...              ...       ...       ...       ...       ...       ...   \n",
      "2018-09-30  0.015284  0.027634  0.047244  0.010900  0.007337 -0.079008   \n",
      "2018-10-31 -0.039992 -0.051445 -0.055898 -0.051051 -0.038017 -0.107807   \n",
      "2018-11-30 -0.022342 -0.000931 -0.004678 -0.004933 -0.065763 -0.028176   \n",
      "2018-12-31 -0.057257 -0.030507 -0.062331 -0.009490 -0.086570 -0.127807   \n",
      "2019-01-31 -0.022310 -0.016698 -0.068466  0.032656 -0.004991 -0.059771   \n",
      "\n",
      "                 AGR       AVT       BBY       BMO  ...       HIG       TKR  \\\n",
      "Date                                                ...                       \n",
      "1999-01-31       NaN       NaN       NaN       NaN  ...       NaN       NaN   \n",
      "1999-02-28       NaN -0.149259  0.140845 -0.002986  ... -0.010966 -0.048120   \n",
      "1999-03-31       NaN -0.061098  0.114649 -0.033842  ...  0.088710 -0.122334   \n",
      "1999-04-30       NaN -0.023847  0.049286  0.042526  ...  0.048372  0.083677   \n",
      "1999-05-31       NaN  0.154682 -0.113758 -0.081096  ...  0.067980  0.218535   \n",
      "...              ...       ...       ...       ...  ...       ...       ...   \n",
      "2018-09-30 -0.017926  0.004793  0.003090  0.022791  ... -0.030627  0.026897   \n",
      "2018-10-31 -0.033310 -0.131445 -0.084746 -0.038199  ... -0.054676 -0.122694   \n",
      "2018-11-30  0.034823  0.053711 -0.067212 -0.057062  ... -0.048204 -0.069838   \n",
      "2018-12-31  0.040671 -0.106665 -0.177319 -0.098445  ... -0.057664 -0.066675   \n",
      "2019-01-31 -0.048084 -0.049389 -0.029763 -0.020836  ...  0.025355  0.004478   \n",
      "\n",
      "                 USB       VFC         V      VOYA       WDC        WY  \\\n",
      "Date                                                                     \n",
      "1999-01-31       NaN       NaN       NaN       NaN       NaN       NaN   \n",
      "1999-02-28 -0.011652  0.042588       NaN       NaN -0.307760  0.011221   \n",
      "1999-03-31  0.062080  0.033567       NaN       NaN -0.216500  0.042527   \n",
      "1999-04-30  0.080157  0.050728       NaN       NaN -0.183762  0.130706   \n",
      "1999-05-31 -0.114569 -0.012470       NaN       NaN  0.115103  0.060164   \n",
      "...              ...       ...       ...       ...       ...       ...   \n",
      "2018-09-30  0.012660 -0.015213  0.039127 -0.013515 -0.106684 -0.028750   \n",
      "2018-10-31 -0.036172 -0.059816 -0.045470 -0.047123 -0.086197 -0.143617   \n",
      "2018-11-30  0.026453 -0.039006 -0.009060 -0.049543 -0.123424 -0.066828   \n",
      "2018-12-31 -0.098722 -0.102699 -0.039599 -0.085742 -0.158773 -0.121534   \n",
      "2019-01-31 -0.040038 -0.037050 -0.006542 -0.020969 -0.026515 -0.089478   \n",
      "\n",
      "                 WIT        WH  \n",
      "Date                            \n",
      "1999-01-31       NaN       NaN  \n",
      "1999-02-28       NaN       NaN  \n",
      "1999-03-31       NaN       NaN  \n",
      "1999-04-30       NaN       NaN  \n",
      "1999-05-31       NaN       NaN  \n",
      "...              ...       ...  \n",
      "2018-09-30  0.041930 -0.032479  \n",
      "2018-10-31 -0.043190 -0.103415  \n",
      "2018-11-30  0.010348 -0.034049  \n",
      "2018-12-31  0.000815 -0.023474  \n",
      "2019-01-31 -0.005633 -0.034053  \n",
      "\n",
      "[241 rows x 77 columns]\n"
     ]
    }
   ],
   "source": [
    "pprint(percent_change_monthly_mtm)"
   ]
  },
  {
   "cell_type": "code",
   "execution_count": null,
   "metadata": {},
   "outputs": [],
   "source": []
  }
 ],
 "metadata": {
  "kernelspec": {
   "display_name": "Python 3",
   "language": "python",
   "name": "python3"
  },
  "language_info": {
   "codemirror_mode": {
    "name": "ipython",
    "version": 3
   },
   "file_extension": ".py",
   "mimetype": "text/x-python",
   "name": "python",
   "nbconvert_exporter": "python",
   "pygments_lexer": "ipython3",
   "version": "3.6.4"
  }
 },
 "nbformat": 4,
 "nbformat_minor": 2
}
